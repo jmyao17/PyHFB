{
 "cells": [
  {
   "cell_type": "code",
   "execution_count": 1,
   "metadata": {},
   "outputs": [],
   "source": [
    "import numpy as np\n",
    "from numpy import array, dot, diag, reshape, transpose\n",
    "from scipy.linalg import eigvalsh\n",
    "from scipy.integrate import odeint, ode\n",
    "from sys import argv\n",
    "import pandas as pd"
   ]
  },
  {
   "cell_type": "code",
   "execution_count": 8,
   "metadata": {},
   "outputs": [
    {
     "data": {
      "text/html": [
       "<div>\n",
       "<style scoped>\n",
       "    .dataframe tbody tr th:only-of-type {\n",
       "        vertical-align: middle;\n",
       "    }\n",
       "\n",
       "    .dataframe tbody tr th {\n",
       "        vertical-align: top;\n",
       "    }\n",
       "\n",
       "    .dataframe thead th {\n",
       "        text-align: right;\n",
       "    }\n",
       "</style>\n",
       "<table border=\"1\" class=\"dataframe\">\n",
       "  <thead>\n",
       "    <tr style=\"text-align: right;\">\n",
       "      <th></th>\n",
       "      <th>0</th>\n",
       "      <th>1</th>\n",
       "      <th>2</th>\n",
       "      <th>3</th>\n",
       "      <th>4</th>\n",
       "    </tr>\n",
       "  </thead>\n",
       "  <tbody>\n",
       "    <tr>\n",
       "      <th>0</th>\n",
       "      <td>0</td>\n",
       "      <td>0</td>\n",
       "      <td>0</td>\n",
       "      <td>0</td>\n",
       "      <td>15.000000</td>\n",
       "    </tr>\n",
       "    <tr>\n",
       "      <th>1</th>\n",
       "      <td>0</td>\n",
       "      <td>0</td>\n",
       "      <td>0</td>\n",
       "      <td>1</td>\n",
       "      <td>12.247449</td>\n",
       "    </tr>\n",
       "    <tr>\n",
       "      <th>2</th>\n",
       "      <td>0</td>\n",
       "      <td>0</td>\n",
       "      <td>1</td>\n",
       "      <td>0</td>\n",
       "      <td>12.247449</td>\n",
       "    </tr>\n",
       "    <tr>\n",
       "      <th>3</th>\n",
       "      <td>0</td>\n",
       "      <td>0</td>\n",
       "      <td>1</td>\n",
       "      <td>1</td>\n",
       "      <td>35.000000</td>\n",
       "    </tr>\n",
       "    <tr>\n",
       "      <th>4</th>\n",
       "      <td>0</td>\n",
       "      <td>0</td>\n",
       "      <td>1</td>\n",
       "      <td>2</td>\n",
       "      <td>22.360680</td>\n",
       "    </tr>\n",
       "  </tbody>\n",
       "</table>\n",
       "</div>"
      ],
      "text/plain": [
       "   0  1  2  3          4\n",
       "0  0  0  0  0  15.000000\n",
       "1  0  0  0  1  12.247449\n",
       "2  0  0  1  0  12.247449\n",
       "3  0  0  1  1  35.000000\n",
       "4  0  0  1  2  22.360680"
      ]
     },
     "execution_count": 8,
     "metadata": {},
     "output_type": "execute_result"
    }
   ],
   "source": [
    "me1b=pd.read_csv(\"me1b.dat\",delimiter=r'\\s+',header=None,skiprows=1)\n",
    "me1b.head()\n",
    "#def Read_ME1B(File1b):\n",
    "#    me1b=pd.read_csv(File1b,delimiter=r'\\s+',header=None,skiprows=None)\n",
    "#    print(me1b) \n",
    "#    return me1b \n",
    "#Read_ME1B(\"me1b.dat\")"
   ]
  },
  {
   "cell_type": "code",
   "execution_count": 11,
   "metadata": {},
   "outputs": [
    {
     "name": "stdout",
     "output_type": "stream",
     "text": [
      "[[ 15.          12.24744871   0.        ]\n",
      " [ 12.24744871  35.          22.36067978]\n",
      " [  0.          22.36067978  55.        ]]\n"
     ]
    }
   ],
   "source": [
    "def Read_ME1B(File1b):\n",
    "        tmax=2\n",
    "        ljmax=9\n",
    "        nmax=3\n",
    "        me1b=pd.read_csv(File1b,delimiter=r'\\s+',header=None,skiprows=1)\n",
    "        me1b.columns=['t','lj','n1','n2','vme1b']\n",
    "        H1B=np.zeros((tmax,ljmax,nmax,nmax))\n",
    "        for item in me1b.index.values:\n",
    "                it = me1b['t'][item]\n",
    "                lj = me1b['lj'][item]\n",
    "                n1 = me1b['n1'][item]\n",
    "                n2 = me1b['n2'][item]\n",
    "                H1B[it,lj,n1,n2] = me1b['vme1b'][item]\n",
    "\n",
    "\n",
    "\n",
    "        return H1B\n",
    "H1B=Read_ME1B(\"me1b.dat\")\n",
    "print(H1B[0,0,:,:])"
   ]
  },
  {
   "cell_type": "code",
   "execution_count": null,
   "metadata": {},
   "outputs": [],
   "source": []
  }
 ],
 "metadata": {
  "kernelspec": {
   "display_name": "Python 3",
   "language": "python",
   "name": "python3"
  },
  "language_info": {
   "codemirror_mode": {
    "name": "ipython",
    "version": 3
   },
   "file_extension": ".py",
   "mimetype": "text/x-python",
   "name": "python",
   "nbconvert_exporter": "python",
   "pygments_lexer": "ipython3",
   "version": "3.6.3"
  }
 },
 "nbformat": 4,
 "nbformat_minor": 2
}
